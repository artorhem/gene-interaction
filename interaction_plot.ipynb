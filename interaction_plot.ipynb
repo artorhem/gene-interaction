{
 "cells": [
  {
   "cell_type": "code",
   "execution_count": 2,
   "metadata": {},
   "outputs": [],
   "source": [
    "import pandas\n",
    "import numpy\n"
   ]
  },
  {
   "cell_type": "code",
   "execution_count": 8,
   "metadata": {},
   "outputs": [
    {
     "name": "stdout",
     "output_type": "stream",
     "text": [
      "9\n",
      "34\n",
      "43\n",
      "59\n",
      "69\n",
      "78\n",
      "84\n",
      "85\n",
      "89\n",
      "96\n",
      "104\n",
      "107\n",
      "121\n",
      "125\n",
      "128\n",
      "131\n",
      "139\n",
      "147\n",
      "149\n",
      "172\n",
      "177\n",
      "178\n",
      "182\n",
      "194\n",
      "197\n",
      "199\n",
      "202\n",
      "203\n",
      "210\n",
      "211\n",
      "216\n",
      "235\n",
      "237\n",
      "241\n",
      "245\n",
      "254\n",
      "257\n",
      "262\n",
      "266\n",
      "267\n",
      "268\n",
      "279\n",
      "302\n"
     ]
    }
   ],
   "source": [
    "#read the csv which had the inflammatory and anti-inflammatory genes\n",
    "colnames = ['infla','anti_infla']\n",
    "all_genes = pandas.read_csv('gene_types.csv',names=colnames)\n",
    "infla_genes = all_genes.infla.tolist()\n",
    "anti_infla_genes = all_genes.anti_infla.tolist()\n",
    "\n",
    "#now read the main csv file\n",
    "colnames = ['log2foldchange','FC','pvalue','padjust','gene_name']\n",
    "regulation_data = pandas.read_csv('network_all.csv',names=colnames)\n",
    "regulation_data.shape\n",
    "\n",
    "#now create an empty dataframe with the same colnames\n",
    "merge_infla = pandas.DataFrame(columns = colnames)\n",
    "merge_anti_infla = pandas.DataFrame(columns = colnames)\n",
    "\n",
    "for idx, row in regulation_data.iterrows():\n",
    "    if row.gene_name in infla_genes:\n",
    "        print (idx)\n",
    "        merge_infla = merge_infla.append(row,ignore_index=True)\n",
    "    elif row.gene_name in anti_infla_genes:\n",
    "        merge_anti_infla = merge_anti_infla.append(row,ignore_index=True)\n",
    "\n",
    "#merge_infla.shape\n",
    "#merge_anti_infla"
   ]
  },
  {
   "cell_type": "code",
   "execution_count": null,
   "metadata": {},
   "outputs": [],
   "source": []
  },
  {
   "cell_type": "code",
   "execution_count": null,
   "metadata": {},
   "outputs": [],
   "source": []
  },
  {
   "cell_type": "code",
   "execution_count": null,
   "metadata": {},
   "outputs": [],
   "source": []
  }
 ],
 "metadata": {
  "kernelspec": {
   "display_name": "Python 3",
   "language": "python",
   "name": "python3"
  },
  "language_info": {
   "codemirror_mode": {
    "name": "ipython",
    "version": 3
   },
   "file_extension": ".py",
   "mimetype": "text/x-python",
   "name": "python",
   "nbconvert_exporter": "python",
   "pygments_lexer": "ipython3",
   "version": "3.7.5"
  }
 },
 "nbformat": 4,
 "nbformat_minor": 4
}
