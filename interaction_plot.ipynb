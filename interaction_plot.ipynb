{
 "cells": [
  {
   "cell_type": "code",
   "execution_count": 2,
   "metadata": {},
   "outputs": [],
   "source": [
    "import pandas\n",
    "import numpy\n"
   ]
  },
  {
   "cell_type": "code",
   "execution_count": 39,
   "metadata": {},
   "outputs": [
    {
     "name": "stdout",
     "output_type": "stream",
     "text": [
      "48\n"
     ]
    }
   ],
   "source": [
    "#read the csv which had the inflammatory and anti-inflammatory genes\n",
    "colnames = ['infla','anti_infla']\n",
    "all_genes = pandas.read_csv('gene_types.csv',names=colnames)\n",
    "infla_genes = all_genes.infla.tolist()\n",
    "anti_infla_genes = all_genes.anti_infla.tolist()\n",
    "\n",
    "cleanedList = [x for x in anti_infla_genes if str(x) != 'nan']\n",
    "anti_infla_genes = cleanedList\n",
    "\n",
    "#now read the main csv file\n",
    "colnames = ['log2foldchange','FC','pvalue','padjust','gene_name']\n",
    "regulation_data = pandas.read_csv('network_all.csv',names=colnames)\n",
    "\n",
    "#now create an empty dataframe with the same colnames\n",
    "merge_infla = pandas.DataFrame(columns = colnames)\n",
    "merge_anti_infla = pandas.DataFrame(columns = colnames)\n",
    "count1=0\n",
    "count2=0\n",
    "for idx, row in regulation_data.iterrows():\n",
    "    if idx ==0:\n",
    "        continue\n",
    "    if str(row.gene_name) in infla_genes:\n",
    "        count1 = count1 + 1\n",
    "        #print (row)\n",
    "        merge_infla = merge_infla.append(row,ignore_index=True)\n",
    "    elif str(row.gene_name) in anti_infla_genes:\n",
    "        count2 = count2 +1\n",
    "        merge_anti_infla = merge_anti_infla.append(row,ignore_index=True)\n",
    "\n",
    "print(len(merge_infla.gene_name.tolist()))"
   ]
  },
  {
   "cell_type": "code",
   "execution_count": null,
   "metadata": {},
   "outputs": [],
   "source": []
  },
  {
   "cell_type": "code",
   "execution_count": null,
   "metadata": {},
   "outputs": [],
   "source": []
  },
  {
   "cell_type": "code",
   "execution_count": null,
   "metadata": {},
   "outputs": [],
   "source": []
  }
 ],
 "metadata": {
  "kernelspec": {
   "display_name": "Python 3",
   "language": "python",
   "name": "python3"
  },
  "language_info": {
   "codemirror_mode": {
    "name": "ipython",
    "version": 3
   },
   "file_extension": ".py",
   "mimetype": "text/x-python",
   "name": "python",
   "nbconvert_exporter": "python",
   "pygments_lexer": "ipython3",
   "version": "3.7.5"
  }
 },
 "nbformat": 4,
 "nbformat_minor": 4
}
